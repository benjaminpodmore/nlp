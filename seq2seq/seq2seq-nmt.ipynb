{
 "metadata": {
  "kernelspec": {
   "language": "python",
   "display_name": "Python 3",
   "name": "python3"
  },
  "language_info": {
   "pygments_lexer": "ipython3",
   "nbconvert_exporter": "python",
   "version": "3.6.4",
   "file_extension": ".py",
   "codemirror_mode": {
    "name": "ipython",
    "version": 3
   },
   "name": "python",
   "mimetype": "text/x-python"
  }
 },
 "nbformat_minor": 4,
 "nbformat": 4,
 "cells": [
  {
   "cell_type": "code",
   "source": [
    "import torch\n",
    "import torch.nn as nn\n",
    "import torch.nn.functional as F\n",
    "import torch.optim as optim\n",
    "from torch.utils.data import DataLoader, random_split\n",
    "from datasets import Dataset, load_dataset\n",
    "from transformers import AutoTokenizer\n",
    "\n",
    "import numpy as np\n",
    "import random\n",
    "from tqdm import tqdm"
   ],
   "metadata": {
    "_uuid": "8f2839f25d086af736a60e9eeb907d3b93b6e0e5",
    "_cell_guid": "b1076dfc-b9ad-4769-8c92-a6c4dae69d19",
    "execution": {
     "iopub.status.busy": "2023-08-10T10:01:34.728686Z",
     "iopub.execute_input": "2023-08-10T10:01:34.729122Z",
     "iopub.status.idle": "2023-08-10T10:01:37.836495Z",
     "shell.execute_reply.started": "2023-08-10T10:01:34.729084Z",
     "shell.execute_reply": "2023-08-10T10:01:37.835167Z"
    },
    "trusted": true,
    "ExecuteTime": {
     "end_time": "2023-08-10T15:08:42.402007100Z",
     "start_time": "2023-08-10T15:08:38.572780400Z"
    }
   },
   "execution_count": 1,
   "outputs": []
  },
  {
   "cell_type": "code",
   "source": [
    "dataset = load_dataset(\"bentrevett/multi30k\")\n",
    "dataset"
   ],
   "metadata": {
    "execution": {
     "iopub.status.busy": "2023-08-10T10:01:37.838983Z",
     "iopub.execute_input": "2023-08-10T10:01:37.839757Z",
     "iopub.status.idle": "2023-08-10T10:01:38.419427Z",
     "shell.execute_reply.started": "2023-08-10T10:01:37.839718Z",
     "shell.execute_reply": "2023-08-10T10:01:38.418330Z"
    },
    "trusted": true,
    "ExecuteTime": {
     "end_time": "2023-08-10T15:08:57.882523400Z",
     "start_time": "2023-08-10T15:08:44.341622700Z"
    }
   },
   "execution_count": 2,
   "outputs": [
    {
     "data": {
      "text/plain": "Downloading readme:   0%|          | 0.00/1.15k [00:00<?, ?B/s]",
      "application/vnd.jupyter.widget-view+json": {
       "version_major": 2,
       "version_minor": 0,
       "model_id": "087d0c1c59c0473b90faccfcae7bf3be"
      }
     },
     "metadata": {},
     "output_type": "display_data"
    },
    {
     "data": {
      "text/plain": "Downloading data files:   0%|          | 0/3 [00:00<?, ?it/s]",
      "application/vnd.jupyter.widget-view+json": {
       "version_major": 2,
       "version_minor": 0,
       "model_id": "9b022153071140889994c09634fd0348"
      }
     },
     "metadata": {},
     "output_type": "display_data"
    },
    {
     "data": {
      "text/plain": "Downloading data:   0%|          | 0.00/4.60M [00:00<?, ?B/s]",
      "application/vnd.jupyter.widget-view+json": {
       "version_major": 2,
       "version_minor": 0,
       "model_id": "ab0f580659014f70836af81911705cd9"
      }
     },
     "metadata": {},
     "output_type": "display_data"
    },
    {
     "data": {
      "text/plain": "Downloading data:   0%|          | 0.00/164k [00:00<?, ?B/s]",
      "application/vnd.jupyter.widget-view+json": {
       "version_major": 2,
       "version_minor": 0,
       "model_id": "7a5774443c2f42318d3a484d031c9da8"
      }
     },
     "metadata": {},
     "output_type": "display_data"
    },
    {
     "data": {
      "text/plain": "Downloading data:   0%|          | 0.00/156k [00:00<?, ?B/s]",
      "application/vnd.jupyter.widget-view+json": {
       "version_major": 2,
       "version_minor": 0,
       "model_id": "011504e6fae14798a74aba01df1819b5"
      }
     },
     "metadata": {},
     "output_type": "display_data"
    },
    {
     "data": {
      "text/plain": "Extracting data files:   0%|          | 0/3 [00:00<?, ?it/s]",
      "application/vnd.jupyter.widget-view+json": {
       "version_major": 2,
       "version_minor": 0,
       "model_id": "251644a866b94088a7890b1b44a59106"
      }
     },
     "metadata": {},
     "output_type": "display_data"
    },
    {
     "data": {
      "text/plain": "Generating train split: 0 examples [00:00, ? examples/s]",
      "application/vnd.jupyter.widget-view+json": {
       "version_major": 2,
       "version_minor": 0,
       "model_id": "5c4d48d82f7f4dddb9eaa3acdc4d65a7"
      }
     },
     "metadata": {},
     "output_type": "display_data"
    },
    {
     "data": {
      "text/plain": "Generating validation split: 0 examples [00:00, ? examples/s]",
      "application/vnd.jupyter.widget-view+json": {
       "version_major": 2,
       "version_minor": 0,
       "model_id": "32021cfac035432cb7ed0aa724f945c4"
      }
     },
     "metadata": {},
     "output_type": "display_data"
    },
    {
     "data": {
      "text/plain": "Generating test split: 0 examples [00:00, ? examples/s]",
      "application/vnd.jupyter.widget-view+json": {
       "version_major": 2,
       "version_minor": 0,
       "model_id": "445b5957d73345ba93db0f3255dcb386"
      }
     },
     "metadata": {},
     "output_type": "display_data"
    },
    {
     "data": {
      "text/plain": "DatasetDict({\n    train: Dataset({\n        features: ['en', 'de'],\n        num_rows: 29000\n    })\n    validation: Dataset({\n        features: ['en', 'de'],\n        num_rows: 1014\n    })\n    test: Dataset({\n        features: ['en', 'de'],\n        num_rows: 1000\n    })\n})"
     },
     "execution_count": 2,
     "metadata": {},
     "output_type": "execute_result"
    }
   ]
  },
  {
   "cell_type": "code",
   "source": [
    "train_dataset = Dataset.from_dict(dataset[\"train\"][0:28000])\n",
    "validation_dataset = Dataset.from_dict(dataset[\"train\"][28000:])\n",
    "test_dataset = dataset[\"test\"]"
   ],
   "metadata": {
    "execution": {
     "iopub.status.busy": "2023-08-10T10:01:38.421025Z",
     "iopub.execute_input": "2023-08-10T10:01:38.421694Z",
     "iopub.status.idle": "2023-08-10T10:01:38.622674Z",
     "shell.execute_reply.started": "2023-08-10T10:01:38.421656Z",
     "shell.execute_reply": "2023-08-10T10:01:38.621579Z"
    },
    "trusted": true,
    "ExecuteTime": {
     "end_time": "2023-08-10T15:08:57.987899400Z",
     "start_time": "2023-08-10T15:08:57.867865500Z"
    }
   },
   "execution_count": 3,
   "outputs": []
  },
  {
   "cell_type": "code",
   "source": [
    "tokenizer = AutoTokenizer.from_pretrained(\"distilbert-base-uncased\")\n",
    "vocab = tokenizer.get_vocab()\n",
    "vocab_size = len(vocab)"
   ],
   "metadata": {
    "execution": {
     "iopub.status.busy": "2023-08-10T10:01:38.625396Z",
     "iopub.execute_input": "2023-08-10T10:01:38.626007Z",
     "iopub.status.idle": "2023-08-10T10:01:38.763558Z",
     "shell.execute_reply.started": "2023-08-10T10:01:38.625968Z",
     "shell.execute_reply": "2023-08-10T10:01:38.762438Z"
    },
    "trusted": true,
    "ExecuteTime": {
     "end_time": "2023-08-10T15:08:58.383030Z",
     "start_time": "2023-08-10T15:08:57.970387900Z"
    }
   },
   "execution_count": 4,
   "outputs": []
  },
  {
   "cell_type": "code",
   "source": [
    "def tokenize(tokenizer, batch):\n",
    "    src_out = tokenizer(batch[\"en\"], padding=True, truncation=True)\n",
    "    tgt_out = tokenizer(batch[\"de\"], padding=True, truncation=True)\n",
    "    \n",
    "    return {\n",
    "        \"src_input_ids\": src_out[\"input_ids\"],\n",
    "        \"src_attention_mask\": src_out[\"attention_mask\"],\n",
    "        \"tgt_input_ids\": tgt_out[\"input_ids\"],\n",
    "        \"tgt_attention_mask\": tgt_out[\"attention_mask\"]\n",
    "    }"
   ],
   "metadata": {
    "execution": {
     "iopub.status.busy": "2023-08-10T10:01:38.765094Z",
     "iopub.execute_input": "2023-08-10T10:01:38.765651Z",
     "iopub.status.idle": "2023-08-10T10:01:38.778060Z",
     "shell.execute_reply.started": "2023-08-10T10:01:38.765617Z",
     "shell.execute_reply": "2023-08-10T10:01:38.776988Z"
    },
    "trusted": true,
    "ExecuteTime": {
     "end_time": "2023-08-10T15:08:58.388783Z",
     "start_time": "2023-08-10T15:08:58.382405600Z"
    }
   },
   "execution_count": 5,
   "outputs": []
  },
  {
   "cell_type": "code",
   "source": [
    "train_dataset_tokenized = train_dataset.map(lambda batch: tokenize(tokenizer, batch), batched=True, batch_size=None)\n",
    "validation_dataset_tokenized = validation_dataset.map(lambda batch: tokenize(tokenizer, batch), batched=True, batch_size=None)\n",
    "test_dataset_tokenized = test_dataset.map(lambda batch: tokenize(tokenizer, batch), batched=True, batch_size=None)"
   ],
   "metadata": {
    "execution": {
     "iopub.status.busy": "2023-08-10T10:01:38.782626Z",
     "iopub.execute_input": "2023-08-10T10:01:38.783875Z",
     "iopub.status.idle": "2023-08-10T10:01:46.084919Z",
     "shell.execute_reply.started": "2023-08-10T10:01:38.783835Z",
     "shell.execute_reply": "2023-08-10T10:01:46.083808Z"
    },
    "trusted": true,
    "ExecuteTime": {
     "end_time": "2023-08-10T15:09:02.595911100Z",
     "start_time": "2023-08-10T15:08:58.388783Z"
    }
   },
   "execution_count": 6,
   "outputs": [
    {
     "data": {
      "text/plain": "Map:   0%|          | 0/28000 [00:00<?, ? examples/s]",
      "application/vnd.jupyter.widget-view+json": {
       "version_major": 2,
       "version_minor": 0,
       "model_id": "f632f29f2ce749fca3075c1e73e18607"
      }
     },
     "metadata": {},
     "output_type": "display_data"
    },
    {
     "data": {
      "text/plain": "Map:   0%|          | 0/1000 [00:00<?, ? examples/s]",
      "application/vnd.jupyter.widget-view+json": {
       "version_major": 2,
       "version_minor": 0,
       "model_id": "eae0aa9074124bb488bf42ade590c414"
      }
     },
     "metadata": {},
     "output_type": "display_data"
    },
    {
     "data": {
      "text/plain": "Map:   0%|          | 0/1000 [00:00<?, ? examples/s]",
      "application/vnd.jupyter.widget-view+json": {
       "version_major": 2,
       "version_minor": 0,
       "model_id": "61167a664916462e8a71204d0f55e2f8"
      }
     },
     "metadata": {},
     "output_type": "display_data"
    }
   ]
  },
  {
   "cell_type": "code",
   "source": [
    "def collate_fn(batch):\n",
    "    inputs = torch.stack([torch.tensor([x[\"src_input_ids\"] for x in batch])])\n",
    "    labels = torch.stack([torch.tensor([x[\"tgt_input_ids\"] for x in batch])])\n",
    "    return inputs, labels "
   ],
   "metadata": {
    "execution": {
     "iopub.status.busy": "2023-08-10T10:01:46.086444Z",
     "iopub.execute_input": "2023-08-10T10:01:46.087078Z",
     "iopub.status.idle": "2023-08-10T10:01:46.093119Z",
     "shell.execute_reply.started": "2023-08-10T10:01:46.087041Z",
     "shell.execute_reply": "2023-08-10T10:01:46.091972Z"
    },
    "trusted": true,
    "ExecuteTime": {
     "end_time": "2023-08-10T15:09:02.595911100Z",
     "start_time": "2023-08-10T15:09:02.587161900Z"
    }
   },
   "execution_count": 7,
   "outputs": []
  },
  {
   "cell_type": "code",
   "source": [
    "BATCH_SIZE=128\n",
    "\n",
    "train_dataloader = DataLoader(train_dataset_tokenized, batch_size=BATCH_SIZE, shuffle=True, collate_fn=collate_fn)\n",
    "validation_dataloader = DataLoader(validation_dataset_tokenized, batch_size=BATCH_SIZE, shuffle=True, collate_fn=collate_fn)\n",
    "test_dataloader = DataLoader(test_dataset_tokenized, batch_size=BATCH_SIZE, shuffle=True, collate_fn=collate_fn)"
   ],
   "metadata": {
    "execution": {
     "iopub.status.busy": "2023-08-10T10:01:46.094707Z",
     "iopub.execute_input": "2023-08-10T10:01:46.095398Z",
     "iopub.status.idle": "2023-08-10T10:01:46.110077Z",
     "shell.execute_reply.started": "2023-08-10T10:01:46.095361Z",
     "shell.execute_reply": "2023-08-10T10:01:46.108924Z"
    },
    "trusted": true,
    "ExecuteTime": {
     "end_time": "2023-08-10T15:09:02.605839200Z",
     "start_time": "2023-08-10T15:09:02.591728300Z"
    }
   },
   "execution_count": 8,
   "outputs": []
  },
  {
   "cell_type": "code",
   "source": [
    "class Encoder(nn.Module):\n",
    "    def __init__(self, vocab_size, embedding_dim, hidden_size):\n",
    "        super().__init__()\n",
    "        \n",
    "        self.embedding = nn.Embedding(num_embeddings=vocab_size, embedding_dim=embedding_dim)\n",
    "        self.rnn = nn.LSTM(embedding_dim, hidden_size=hidden_size, num_layers=1, bidirectional=True)\n",
    "        self.fc_hidden = nn.Linear(2 * hidden_size, hidden_size)\n",
    "        self.fc_cell = nn.Linear(2 * hidden_size, hidden_size)\n",
    "        \n",
    "    def forward(self, x):\n",
    "        embedding = self.embedding(x)\n",
    "        encoder_states, (hidden, cell) = self.rnn(embedding)\n",
    "        hidden = F.relu(self.fc_hidden(torch.cat((hidden[0], hidden[1]), dim=1)))\n",
    "        cell = F.relu(self.fc_cell(torch.cat((cell[0], cell[1]), dim=1)))\n",
    "        \n",
    "        return encoder_states, hidden, cell"
   ],
   "metadata": {
    "execution": {
     "iopub.status.busy": "2023-08-10T10:01:46.112041Z",
     "iopub.execute_input": "2023-08-10T10:01:46.112528Z",
     "iopub.status.idle": "2023-08-10T10:01:46.123854Z",
     "shell.execute_reply.started": "2023-08-10T10:01:46.112492Z",
     "shell.execute_reply": "2023-08-10T10:01:46.122812Z"
    },
    "trusted": true,
    "ExecuteTime": {
     "end_time": "2023-08-10T15:09:02.609878100Z",
     "start_time": "2023-08-10T15:09:02.599921100Z"
    }
   },
   "execution_count": 9,
   "outputs": []
  },
  {
   "cell_type": "code",
   "source": [
    "class Attention(nn.Module):\n",
    "    def __init__(self, hidden_size):\n",
    "        super().__init__()\n",
    "        \n",
    "        self.fc = nn.Linear(2 * hidden_size, hidden_size)\n",
    "        \n",
    "    def forward(self, encoder_states, hidden):\n",
    "        encoder_states = self.fc(encoder_states)\n",
    "        encoder_states = encoder_states.permute(1, 0, 2)\n",
    "        hidden = hidden.permute(1, 2, 0)\n",
    "        \n",
    "        attention_scores = torch.bmm(encoder_states, hidden)\n",
    "        attention_weights = F.softmax(attention_scores, dim=1)\n",
    "        \n",
    "        context_vector = torch.bmm(attention_weights.permute(0, 2, 1), encoder_states)\n",
    "        \n",
    "        return context_vector, attention_weights"
   ],
   "metadata": {
    "execution": {
     "iopub.status.busy": "2023-08-10T10:01:46.128816Z",
     "iopub.execute_input": "2023-08-10T10:01:46.129218Z",
     "iopub.status.idle": "2023-08-10T10:01:46.137766Z",
     "shell.execute_reply.started": "2023-08-10T10:01:46.129166Z",
     "shell.execute_reply": "2023-08-10T10:01:46.136732Z"
    },
    "trusted": true,
    "ExecuteTime": {
     "end_time": "2023-08-10T15:09:02.652264700Z",
     "start_time": "2023-08-10T15:09:02.609878100Z"
    }
   },
   "execution_count": 10,
   "outputs": []
  },
  {
   "cell_type": "code",
   "source": [
    "class Decoder(nn.Module):\n",
    "    def __init__(self, vocab_size, embedding_dim, hidden_size, output_size):\n",
    "        super().__init__()\n",
    "        \n",
    "        self.embedding = nn.Embedding(vocab_size, embedding_dim)\n",
    "        self.attention = Attention(hidden_size)\n",
    "        self.rnn = nn.LSTM(embedding_dim + hidden_size, hidden_size, num_layers=1, bidirectional=False)\n",
    "        self.fc = nn.Linear(hidden_size, output_size)\n",
    "        \n",
    "    def forward(self, x, encoder_states, hidden, cell):\n",
    "        embedding = self.embedding(x)\n",
    "        context_vector, _ = self.attention(encoder_states, hidden)\n",
    "        context_vector = context_vector.permute(1, 0, 2)\n",
    "        outputs, (hidden, cell) = self.rnn(torch.cat((embedding, context_vector), dim=2), (hidden, cell))\n",
    "        outputs = self.fc(outputs)\n",
    "        return outputs, hidden, cell"
   ],
   "metadata": {
    "execution": {
     "iopub.status.busy": "2023-08-10T10:01:46.139371Z",
     "iopub.execute_input": "2023-08-10T10:01:46.140492Z",
     "iopub.status.idle": "2023-08-10T10:01:46.153073Z",
     "shell.execute_reply.started": "2023-08-10T10:01:46.140453Z",
     "shell.execute_reply": "2023-08-10T10:01:46.152252Z"
    },
    "trusted": true,
    "ExecuteTime": {
     "end_time": "2023-08-10T15:09:02.667893200Z",
     "start_time": "2023-08-10T15:09:02.626255800Z"
    }
   },
   "execution_count": 11,
   "outputs": []
  },
  {
   "cell_type": "code",
   "source": [
    "class Seq2Seq(nn.Module):\n",
    "    def __init__(self, vocab_size, embedding_dim, hidden_size, output_size, device):\n",
    "        super().__init__()\n",
    "        \n",
    "        self.encoder = Encoder(vocab_size, embedding_dim, hidden_size)\n",
    "        self.decoder = Decoder(vocab_size, embedding_dim, hidden_size, output_size)\n",
    "        \n",
    "        self.vocab_size = vocab_size\n",
    "        self.device = device\n",
    "        \n",
    "    def forward(self, x, labels, teacher_p):\n",
    "        batch_size = x.shape[1]\n",
    "        seq_length = labels.shape[0]\n",
    "        \n",
    "        encoder_states, hidden, cell = self.encoder(x)\n",
    "        hidden = hidden.unsqueeze(0)\n",
    "        cell = cell.unsqueeze(0)\n",
    "        \n",
    "        outputs = torch.zeros((seq_length, batch_size, self.vocab_size)).to(self.device)\n",
    "        \n",
    "        prev_token = labels[0].unsqueeze(0)\n",
    "        for t in range(1, seq_length):\n",
    "            preds, hidden, cell = self.decoder(prev_token, encoder_states, hidden, cell)\n",
    "            outputs[t] = preds\n",
    "            \n",
    "            prev_token = labels[t].unsqueeze(0) if random.random() < teacher_p else preds.argmax(2)\n",
    "            \n",
    "        return outputs\n"
   ],
   "metadata": {
    "execution": {
     "iopub.status.busy": "2023-08-10T10:01:46.154636Z",
     "iopub.execute_input": "2023-08-10T10:01:46.155771Z",
     "iopub.status.idle": "2023-08-10T10:01:46.166789Z",
     "shell.execute_reply.started": "2023-08-10T10:01:46.155732Z",
     "shell.execute_reply": "2023-08-10T10:01:46.166084Z"
    },
    "trusted": true,
    "ExecuteTime": {
     "end_time": "2023-08-10T15:09:02.668900600Z",
     "start_time": "2023-08-10T15:09:02.637501600Z"
    }
   },
   "execution_count": 12,
   "outputs": []
  },
  {
   "cell_type": "code",
   "source": [
    "device = torch.device(\"cuda\" if torch.cuda.is_available() else \"cpu\")\n",
    "print(f\"Using device {device}.\")"
   ],
   "metadata": {
    "execution": {
     "iopub.status.busy": "2023-08-10T10:01:46.169120Z",
     "iopub.execute_input": "2023-08-10T10:01:46.169656Z",
     "iopub.status.idle": "2023-08-10T10:01:46.221671Z",
     "shell.execute_reply.started": "2023-08-10T10:01:46.169605Z",
     "shell.execute_reply": "2023-08-10T10:01:46.220308Z"
    },
    "trusted": true,
    "ExecuteTime": {
     "end_time": "2023-08-10T15:09:02.669911400Z",
     "start_time": "2023-08-10T15:09:02.643746900Z"
    }
   },
   "execution_count": 13,
   "outputs": [
    {
     "name": "stdout",
     "output_type": "stream",
     "text": [
      "Using device cpu.\n"
     ]
    }
   ]
  },
  {
   "cell_type": "code",
   "source": [
    "model = Seq2Seq(vocab_size, 256, 512, vocab_size, device).to(device)"
   ],
   "metadata": {
    "execution": {
     "iopub.status.busy": "2023-08-10T10:01:46.223258Z",
     "iopub.execute_input": "2023-08-10T10:01:46.224145Z",
     "iopub.status.idle": "2023-08-10T10:01:48.955488Z",
     "shell.execute_reply.started": "2023-08-10T10:01:46.224093Z",
     "shell.execute_reply": "2023-08-10T10:01:48.954182Z"
    },
    "trusted": true,
    "ExecuteTime": {
     "end_time": "2023-08-10T15:09:02.841461400Z",
     "start_time": "2023-08-10T15:09:02.650264200Z"
    }
   },
   "execution_count": 14,
   "outputs": []
  },
  {
   "cell_type": "code",
   "source": [
    "class Trainer:\n",
    "    def __init__(self, model, device, epochs, optimizer, criterion, train_dataloader, train_steps, validation_dataloader, validation_steps, clip):\n",
    "        self.model = model\n",
    "        self.device = device\n",
    "        self.epochs = epochs\n",
    "        self.optimizer = optimizer\n",
    "        self.criterion = criterion\n",
    "        self.train_dataloader = train_dataloader\n",
    "        self.train_steps = train_steps\n",
    "        self.validation_dataloader = validation_dataloader\n",
    "        self.validation_steps = validation_steps\n",
    "        self.clip = clip\n",
    "        \n",
    "        self.loss = {\"train\": [], \"val\": []}\n",
    "        \n",
    "    def train(self):\n",
    "        for epoch in range(self.epochs):\n",
    "            self.train_epoch()\n",
    "            self.validate_epoch()\n",
    "            print(f\"Epoch: {epoch + 1} train loss: {self.loss['train'][-1]} validation loss: {self.loss['val'][-1]}\")\n",
    "        \n",
    "    def train_epoch(self):\n",
    "        self.model.train()\n",
    "        running_loss = []\n",
    "        \n",
    "        for i, batch_data in tqdm(enumerate(self.train_dataloader, 1)):\n",
    "            self.optimizer.zero_grad()\n",
    "            \n",
    "            inputs = batch_data[0].squeeze(0).permute(1, 0).to(self.device)\n",
    "            labels = batch_data[1].squeeze(0).permute(1, 0).to(self.device)\n",
    "            \n",
    "            outputs = self.model(inputs, labels, 0.5)\n",
    "            output_size = outputs.shape[2]\n",
    "            outputs = outputs[1:].view(-1, output_size)\n",
    "            labels = labels[1:].reshape(-1)\n",
    "            \n",
    "            loss = self.criterion(outputs, labels)\n",
    "            loss.backward()\n",
    "            nn.utils.clip_grad_norm_(self.model.parameters(), self.clip)\n",
    "            optimizer.step()\n",
    "            \n",
    "            running_loss.append(loss.item())\n",
    "            \n",
    "            if i == self.train_steps:\n",
    "                break\n",
    "        \n",
    "        self.loss[\"train\"].append(np.mean(running_loss))\n",
    "        \n",
    "    def validate_epoch(self):\n",
    "        self.model.eval()\n",
    "        running_loss = []\n",
    "        \n",
    "        with torch.no_grad():\n",
    "            for i, batch_data in tqdm(enumerate(self.validation_dataloader, 1)):\n",
    "                inputs = batch_data[0].squeeze(0).permute(1, 0).to(self.device)\n",
    "                labels = batch_data[1].squeeze(0).permute(1, 0).to(self.device)\n",
    "\n",
    "                outputs = self.model(inputs, labels, 0.5)\n",
    "                output_size = outputs.shape[2]\n",
    "                outputs = outputs[1:].view(-1, output_size)\n",
    "                labels = labels[1:].reshape(-1)\n",
    "\n",
    "                loss = self.criterion(outputs, labels)\n",
    "\n",
    "                running_loss.append(loss.item())\n",
    "\n",
    "                if i == self.validation_steps:\n",
    "                    break\n",
    "\n",
    "            self.loss[\"val\"].append(np.mean(running_loss))\n",
    "        "
   ],
   "metadata": {
    "execution": {
     "iopub.status.busy": "2023-08-10T10:01:48.956961Z",
     "iopub.execute_input": "2023-08-10T10:01:48.957870Z",
     "iopub.status.idle": "2023-08-10T10:01:48.976116Z",
     "shell.execute_reply.started": "2023-08-10T10:01:48.957830Z",
     "shell.execute_reply": "2023-08-10T10:01:48.974976Z"
    },
    "trusted": true,
    "ExecuteTime": {
     "end_time": "2023-08-10T15:09:02.853064Z",
     "start_time": "2023-08-10T15:09:02.841461400Z"
    }
   },
   "execution_count": 15,
   "outputs": []
  },
  {
   "cell_type": "code",
   "source": [
    "EPOCHS = 10\n",
    "TRAIN_STEPS = 1\n",
    "VALIDATION_STEPS = 1\n",
    "CLIP = 1\n",
    "\n",
    "optimizer = optim.Adam(model.parameters())\n",
    "criterion = nn.CrossEntropyLoss()\n",
    "\n",
    "trainer = Trainer(model, device, EPOCHS, optimizer, criterion, train_dataloader, TRAIN_STEPS, validation_dataloader, VALIDATION_STEPS, CLIP)"
   ],
   "metadata": {
    "execution": {
     "iopub.status.busy": "2023-08-10T10:01:48.978067Z",
     "iopub.execute_input": "2023-08-10T10:01:48.978457Z",
     "iopub.status.idle": "2023-08-10T10:01:48.993234Z",
     "shell.execute_reply.started": "2023-08-10T10:01:48.978422Z",
     "shell.execute_reply": "2023-08-10T10:01:48.991944Z"
    },
    "trusted": true,
    "ExecuteTime": {
     "end_time": "2023-08-10T15:09:02.883766500Z",
     "start_time": "2023-08-10T15:09:02.861706600Z"
    }
   },
   "execution_count": 16,
   "outputs": []
  },
  {
   "cell_type": "code",
   "source": [
    "torch.cuda.empty_cache()"
   ],
   "metadata": {
    "execution": {
     "iopub.status.busy": "2023-08-10T10:01:48.994671Z",
     "iopub.execute_input": "2023-08-10T10:01:48.996332Z",
     "iopub.status.idle": "2023-08-10T10:01:49.008977Z",
     "shell.execute_reply.started": "2023-08-10T10:01:48.996289Z",
     "shell.execute_reply": "2023-08-10T10:01:49.007689Z"
    },
    "trusted": true,
    "ExecuteTime": {
     "end_time": "2023-08-10T15:09:02.883766500Z",
     "start_time": "2023-08-10T15:09:02.867663400Z"
    }
   },
   "execution_count": 17,
   "outputs": []
  },
  {
   "cell_type": "code",
   "source": [
    "def init_weights(m):\n",
    "    for name, param in m.named_parameters():\n",
    "        if 'weight' in name:\n",
    "            nn.init.normal_(param.data, mean=0, std=0.01)\n",
    "        else:\n",
    "            nn.init.constant_(param.data, 0)\n",
    "            \n",
    "model.apply(init_weights)"
   ],
   "metadata": {
    "execution": {
     "iopub.status.busy": "2023-08-10T10:24:24.742976Z",
     "iopub.execute_input": "2023-08-10T10:24:24.743491Z",
     "iopub.status.idle": "2023-08-10T10:24:24.763384Z",
     "shell.execute_reply.started": "2023-08-10T10:24:24.743450Z",
     "shell.execute_reply": "2023-08-10T10:24:24.761623Z"
    },
    "trusted": true,
    "ExecuteTime": {
     "end_time": "2023-08-10T15:09:03.620203100Z",
     "start_time": "2023-08-10T15:09:02.872694900Z"
    }
   },
   "execution_count": 18,
   "outputs": [
    {
     "data": {
      "text/plain": "Seq2Seq(\n  (encoder): Encoder(\n    (embedding): Embedding(30522, 256)\n    (rnn): LSTM(256, 512, bidirectional=True)\n    (fc_hidden): Linear(in_features=1024, out_features=512, bias=True)\n    (fc_cell): Linear(in_features=1024, out_features=512, bias=True)\n  )\n  (decoder): Decoder(\n    (embedding): Embedding(30522, 256)\n    (attention): Attention(\n      (fc): Linear(in_features=1024, out_features=512, bias=True)\n    )\n    (rnn): LSTM(768, 512)\n    (fc): Linear(in_features=512, out_features=30522, bias=True)\n  )\n)"
     },
     "execution_count": 18,
     "metadata": {},
     "output_type": "execute_result"
    }
   ]
  },
  {
   "cell_type": "code",
   "source": [
    "trainer.train()"
   ],
   "metadata": {
    "execution": {
     "iopub.status.busy": "2023-08-10T10:24:25.772059Z",
     "iopub.execute_input": "2023-08-10T10:24:25.774219Z",
     "iopub.status.idle": "2023-08-10T10:41:53.093790Z",
     "shell.execute_reply.started": "2023-08-10T10:24:25.774175Z",
     "shell.execute_reply": "2023-08-10T10:41:53.092632Z"
    },
    "trusted": true,
    "is_executing": true,
    "ExecuteTime": {
     "start_time": "2023-08-10T15:09:03.618667600Z"
    }
   },
   "execution_count": null,
   "outputs": [
    {
     "name": "stderr",
     "output_type": "stream",
     "text": [
      "4it [04:05, 62.05s/it]"
     ]
    }
   ]
  },
  {
   "cell_type": "code",
   "source": [
    "torch.save(model.state_dict(), 'model_params.pth')"
   ],
   "metadata": {
    "is_executing": true
   },
   "execution_count": null,
   "outputs": []
  }
 ]
}
